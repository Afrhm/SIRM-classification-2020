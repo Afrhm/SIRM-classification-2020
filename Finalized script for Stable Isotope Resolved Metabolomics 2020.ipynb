{
 "cells": [
  {
   "cell_type": "markdown",
   "metadata": {},
   "source": [
    "This script is for the statistical data analysis for the article \"Stable Isotope Resolved Metabolomics Classification of Prostate Cancer Cells using Hyperpolarized NMR Data\" by A. Frahm et al. Journal of Magnetic Resonance 2020.\n",
    "\n",
    "All code is written by A Frahm (afrahm@dtu.dk), except when explicitly stated otherwise.\n",
    "\n",
    "Versions used:\n",
    "\n",
    "Python: 3.6.5\n",
    "Scipy: 1.1.0\n",
    "sklearn: 0.19.2\n"
   ]
  },
  {
   "cell_type": "markdown",
   "metadata": {},
   "source": [
    "Set up data:"
   ]
  },
  {
   "cell_type": "code",
   "execution_count": 24,
   "metadata": {
    "ExecuteTime": {
     "end_time": "2020-05-03T16:03:22.091881Z",
     "start_time": "2020-05-03T16:03:22.007579Z"
    }
   },
   "outputs": [],
   "source": [
    "import numpy as np\n",
    "import pandas as pd\n",
    "import matplotlib.pyplot as plt\n",
    "from collections import defaultdict #Used in RF for ordered dictionary\n",
    "from scipy import stats #used for box-cox and SEM score for imp.\n",
    "from sklearn.model_selection import cross_val_score, cross_val_predict, LeaveOneOut, \\\n",
    "StratifiedShuffleSplit\n",
    "from sklearn.decomposition import PCA\n",
    "from sklearn.preprocessing import scale, LabelEncoder\n",
    "from sklearn.discriminant_analysis import LinearDiscriminantAnalysis as LDA\n",
    "from sklearn.ensemble import RandomForestClassifier as RF\n",
    "from sklearn import svm\n",
    "\n",
    "#bigger labels on plots\n",
    "plt.rc('axes', labelsize=15)\n",
    "plt.rc('legend', fontsize=10)\n",
    "\n",
    "#read in data\n",
    "newdata = pd.ExcelFile(\"data_ordered.xlsx\")\n",
    "data = newdata.parse('Sheet1')\n",
    "\n",
    "#get list of cell types from sample name\n",
    "celltype = np.array([])\n",
    "for s in data.index:\n",
    "        cell = s.split(\"_\")[0]\n",
    "        celltype = np.append(celltype, cell)\n",
    "\n",
    "data.index = celltype #set sample names only as cell type\n",
    "\n",
    "#cat list contains agg or non corresponding to celltype\n",
    "cat = np.array([])\n",
    "for i in celltype:\n",
    "    if i in [\"DU145\", \"PC3\"]:\n",
    "        cat = np.append(cat, \"AGG\")\n",
    "    else:\n",
    "        cat = np.append(cat, \"NON\")\n",
    "\n",
    "#no values below zero\n",
    "data = data.where(data>0,0)\n",
    "\n",
    "#define a color set for plotting\n",
    "color_set = np.array([\"turquoise\",\"b\", \"r\", \"orange\"])"
   ]
  },
  {
   "cell_type": "markdown",
   "metadata": {},
   "source": [
    "Code by: Kington, J. D.; Tobin, H. J.,\n",
    "bibliography code: 2013AGUFM.T31F2580K\n",
    "\n",
    "Function used for making the STD clouds in the LDA plot"
   ]
  },
  {
   "cell_type": "code",
   "execution_count": 25,
   "metadata": {
    "ExecuteTime": {
     "end_time": "2020-05-03T16:03:22.107506Z",
     "start_time": "2020-05-03T16:03:22.091881Z"
    }
   },
   "outputs": [],
   "source": [
    "from matplotlib.patches import Ellipse\n",
    "\n",
    "def plot_point_cov(points, nstd=2, ax=None, **kwargs):\n",
    "    \"\"\"\n",
    "    Plots an `nstd` sigma ellipse based on the mean and covariance of a point\n",
    "    \"cloud\" (points, an Nx2 array).\n",
    "\n",
    "    Parameters\n",
    "    ----------\n",
    "        points : An Nx2 array of the data points.\n",
    "        nstd : The radius of the ellipse in numbers of standard deviations.\n",
    "            Defaults to 2 standard deviations.\n",
    "        ax : The axis that the ellipse will be plotted on. Defaults to the \n",
    "            current axis.\n",
    "        Additional keyword arguments are pass on to the ellipse patch.\n",
    "\n",
    "    Returns\n",
    "    -------\n",
    "        A matplotlib ellipse artist\n",
    "    \"\"\"\n",
    "    pos = points.mean(axis=0)\n",
    "    cov = np.cov(points, rowvar=False)\n",
    "    return plot_cov_ellipse(cov, pos, nstd, ax, **kwargs)\n",
    "\n",
    "def plot_cov_ellipse(cov, pos, nstd=2, ax=None, **kwargs):\n",
    "    \"\"\"\n",
    "    Plots an `nstd` sigma error ellipse based on the specified covariance\n",
    "    matrix (`cov`). Additional keyword arguments are passed on to the \n",
    "    ellipse patch artist.\n",
    "\n",
    "    Parameters\n",
    "    ----------\n",
    "        cov : The 2x2 covariance matrix to base the ellipse on\n",
    "        pos : The location of the center of the ellipse. Expects a 2-element\n",
    "            sequence of [x0, y0].\n",
    "        nstd : The radius of the ellipse in numbers of standard deviations.\n",
    "            Defaults to 2 standard deviations.\n",
    "        ax : The axis that the ellipse will be plotted on. Defaults to the \n",
    "            current axis.\n",
    "        Additional keyword arguments are pass on to the ellipse patch.\n",
    "\n",
    "    Returns\n",
    "    -------\n",
    "        A matplotlib ellipse artist\n",
    "    \"\"\"\n",
    "    def eigsorted(cov):\n",
    "        vals, vecs = np.linalg.eigh(cov)\n",
    "        order = vals.argsort()[::-1]\n",
    "        return vals[order], vecs[:,order]\n",
    "\n",
    "    if ax is None:\n",
    "        ax = plt.gca()\n",
    "\n",
    "    vals, vecs = eigsorted(cov)\n",
    "    theta = np.degrees(np.arctan2(*vecs[:,0][::-1]))\n",
    "\n",
    "    # Width and height are \"full\" widths, not radius\n",
    "    width, height = 2 * nstd * np.sqrt(vals)\n",
    "    ellip = Ellipse(xy=pos, width=width, height=height, angle=theta, **kwargs)\n",
    "\n",
    "    ax.add_artist(ellip)\n",
    "    return ellip"
   ]
  },
  {
   "cell_type": "markdown",
   "metadata": {},
   "source": [
    "Make illustration of identifed metabolites"
   ]
  },
  {
   "cell_type": "code",
   "execution_count": 26,
   "metadata": {
    "ExecuteTime": {
     "end_time": "2020-05-03T16:03:22.455655Z",
     "start_time": "2020-05-03T16:03:22.107506Z"
    }
   },
   "outputs": [
    {
     "data": {
      "text/plain": [
       "<Figure size 432x288 with 0 Axes>"
      ]
     },
     "metadata": {},
     "output_type": "display_data"
    },
    {
     "data": {
      "image/png": "[encoded data removed]",
      "text/plain": [
       "<Figure size 576x360 with 1 Axes>"
      ]
     },
     "metadata": {},
     "output_type": "display_data"
    }
   ],
   "source": [
    "data_means = pd.DataFrame(columns = data.columns)\n",
    "data_means.loc['DU145'] = data.loc['DU145'].mean().values\n",
    "data_means.loc['PNT'] = data.loc['PNT'].mean().values\n",
    "data_means.loc['LNCAP'] = data.loc['LNCAP'].mean().values\n",
    "data_means.loc['PC3'] = data.loc['PC3'].mean().values\n",
    "\n",
    "\n",
    "data_std = pd.DataFrame(columns = data.columns)\n",
    "data_std.loc['DU145'] = data.loc['DU145'].std().values\n",
    "data_std.loc['PNT'] = data.loc['PNT'].std().values\n",
    "data_std.loc['LNCAP'] = data.loc['LNCAP'].std().values\n",
    "data_std.loc['PC3'] = data.loc['PC3'].std().values\n",
    "\n",
    "#decimate LAC values to make it fit with the rest\n",
    "data_means['LAC-C1'] = data_means['LAC-C1']/10\n",
    "data_std['LAC-C1'] = data_std['LAC-C1']/10\n",
    "\n",
    "\n",
    "#set up STD so only top bar gets plotted\n",
    "nuller = pd.DataFrame(columns = data.columns, index= data_std.index, \n",
    "                      data=np.zeros(np.shape(data_means))).T\n",
    "err_pos = data_std.T\n",
    "err = []\n",
    "\n",
    "for col in err_pos:\n",
    "    err.append([nuller[col].values, err_pos[col].values])\n",
    "\n",
    "#make plot\n",
    "f = plt.figure()\n",
    "data_means.T.plot.bar(yerr = err, figsize=(8, 5), color = color_set)\n",
    "plt.legend(loc='upper right')\n",
    "plt.ylabel('Area [arb. units]')\n",
    "plt.show()"
   ]
  },
  {
   "cell_type": "markdown",
   "metadata": {},
   "source": [
    "ANOVA test for significance of metabolites between cell lines"
   ]
  },
  {
   "cell_type": "code",
   "execution_count": 27,
   "metadata": {
    "ExecuteTime": {
     "end_time": "2020-05-03T16:03:22.555456Z",
     "start_time": "2020-05-03T16:03:22.458660Z"
    }
   },
   "outputs": [
    {
     "name": "stdout",
     "output_type": "stream",
     "text": [
      "DHAP-C2 is below 1% significant\n",
      "LAC-C1 is not significant\n",
      "GLU-C5 is not significant\n",
      "3PG-C1 is not significant\n",
      "U178 is not significant\n",
      "ALA-C1 is below 5% significant\n",
      "SER-GLY-C1 is not significant\n",
      "PYR-C1 is not significant\n",
      "PEP-C2 is below 5% significant\n",
      "G3P-C1 is not significant\n"
     ]
    }
   ],
   "source": [
    "#bonferoni corrected significance\n",
    "b5 = 0.05/len(data.columns)\n",
    "b1 = 0.01/len(data.columns)\n",
    "\n",
    "df_anova = pd.DataFrame(columns= [\"F value\", \"P value\", \n",
    "                                  \"Bonferoni corrected significance\"], \n",
    "                        index = data.columns)\n",
    "\n",
    "for met in data.columns:\n",
    "    f, p = stats.f_oneway(data[met].loc['PNT'],data[met].loc['LNCAP'], \n",
    "                          data[met].loc['DU145'], \n",
    "                          data[met].loc['PC3'])\n",
    "    \n",
    "    if p < b1:\n",
    "        df_anova.loc[met] = [f, p, \"Significant > 99%\"]\n",
    "        print(\"%s is below 1%% significant\" % (met))\n",
    "    \n",
    "    elif p < b5 :\n",
    "        df_anova.loc[met] = [f, p, \"Significant > 95%\"]\n",
    "        print(\"%s is below 5%% significant\" % (met))\n",
    "        \n",
    "    else:\n",
    "        df_anova.loc[met] = [f, p, \"Not significant\"]\n",
    "        print (\"%s is not significant\" % (met))\n",
    "    \n",
    "df_anova.to_excel(\"anova.xlsx\")"
   ]
  },
  {
   "cell_type": "code",
   "execution_count": 28,
   "metadata": {
    "ExecuteTime": {
     "end_time": "2020-05-03T16:03:22.655232Z",
     "start_time": "2020-05-03T16:03:22.558963Z"
    }
   },
   "outputs": [
    {
     "name": "stdout",
     "output_type": "stream",
     "text": [
      "DHAP-C2 PNT LNCAP 0.8941902748637687\n",
      "DHAP-C2 PNT DU145 0.0004606434758217633 95% SIGNIFICANT!!\n",
      "DHAP-C2 PNT PC3 0.010216479217743338\n",
      "DHAP-C2 LNCAP DU145 0.0004348123834141082 95% SIGNIFICANT!!\n",
      "DHAP-C2 LNCAP PC3 0.009686486854772159\n",
      "DHAP-C2 DU145 PC3 0.14427300409572197\n",
      "LAC-C1 PNT LNCAP 0.17020499774222966\n",
      "LAC-C1 PNT DU145 0.0012578645066920616\n",
      "LAC-C1 PNT PC3 0.012866424774430679\n",
      "LAC-C1 LNCAP DU145 0.16883646739676883\n",
      "LAC-C1 LNCAP PC3 0.11392914000575834\n",
      "LAC-C1 DU145 PC3 0.41570383065222594\n",
      "GLU-C5 PNT LNCAP 0.9249975342533919\n",
      "GLU-C5 PNT DU145 0.4663568134404792\n",
      "GLU-C5 PNT PC3 0.9160866163729089\n",
      "GLU-C5 LNCAP DU145 0.369615019575647\n",
      "GLU-C5 LNCAP PC3 0.8275355104688435\n",
      "GLU-C5 DU145 PC3 0.4035049391151373\n",
      "3PG-C1 PNT LNCAP 0.25367459789922825\n",
      "3PG-C1 PNT DU145 0.07273554155109954\n",
      "3PG-C1 PNT PC3 0.01586884496233845\n",
      "3PG-C1 LNCAP DU145 0.5639212229507107\n",
      "3PG-C1 LNCAP PC3 0.22075452134592063\n",
      "3PG-C1 DU145 PC3 0.042475873739478406\n",
      "U178 PNT LNCAP 0.154289256196999\n",
      "U178 PNT DU145 0.825181883429954\n",
      "U178 PNT PC3 0.02252250205092976\n",
      "U178 LNCAP DU145 0.18810704871121356\n",
      "U178 LNCAP PC3 0.33505689763969604\n",
      "U178 DU145 PC3 0.027317233706543625\n",
      "ALA-C1 PNT LNCAP 0.026624827252806654\n",
      "ALA-C1 PNT DU145 0.6961224025817494\n",
      "ALA-C1 PNT PC3 0.6978941809104263\n",
      "ALA-C1 LNCAP DU145 0.03215783098958419\n",
      "ALA-C1 LNCAP PC3 0.04290830579837753\n",
      "ALA-C1 DU145 PC3 0.8686020464338883\n",
      "SER-GLY-C1 PNT LNCAP 0.1323768287659198\n",
      "SER-GLY-C1 PNT DU145 0.4761468909635882\n",
      "SER-GLY-C1 PNT PC3 0.506311501204757\n",
      "SER-GLY-C1 LNCAP DU145 0.15352296222646003\n",
      "SER-GLY-C1 LNCAP PC3 0.1554014346401651\n",
      "SER-GLY-C1 DU145 PC3 0.9706724741125481\n",
      "PYR-C1 PNT LNCAP 0.40407334488891855\n",
      "PYR-C1 PNT DU145 0.7096872205355212\n",
      "PYR-C1 PNT PC3 0.6604631913934489\n",
      "PYR-C1 LNCAP DU145 0.3318879815883554\n",
      "PYR-C1 LNCAP PC3 0.5501301972824006\n",
      "PYR-C1 DU145 PC3 0.44223570709522453\n",
      "PEP-C2 PNT LNCAP 0.27992759400824313\n",
      "PEP-C2 PNT DU145 0.4425184646779482\n",
      "PEP-C2 PNT PC3 0.003962418740344863\n",
      "PEP-C2 LNCAP DU145 0.4807823405610745\n",
      "PEP-C2 LNCAP PC3 0.072499451281714\n",
      "PEP-C2 DU145 PC3 0.007427063478682317\n",
      "G3P-C1 PNT LNCAP 0.02979082471899296\n",
      "G3P-C1 PNT DU145 0.03789565858311322\n",
      "G3P-C1 PNT PC3 0.0014285889855805034\n",
      "G3P-C1 LNCAP DU145 0.06174809070899097\n",
      "G3P-C1 LNCAP PC3 0.013341895928359007\n",
      "G3P-C1 DU145 PC3 0.17353810355661434\n"
     ]
    }
   ],
   "source": [
    "lines = data.index.unique()\n",
    "for met in data.columns:\n",
    "    for n in np.arange(3):\n",
    "        m = n+1 \n",
    "        while m < 4:\n",
    "            t, p = stats.ttest_ind(data[met].loc[lines[n]], \n",
    "                                   data[met].loc[lines[m]], equal_var= False)\n",
    "            if p < 0.01/60:\n",
    "                print(met, lines[n], lines[m], p, \"99% SIGNIFICANT!!\")\n",
    "            elif p < 0.05/60:\n",
    "                print(met, lines[n], lines[m], p, \"95% SIGNIFICANT!!\")\n",
    "            else: \n",
    "                print(met, lines[n], lines[m], p)\n",
    "            m = m +1"
   ]
  },
  {
   "cell_type": "markdown",
   "metadata": {},
   "source": [
    "Make random forest classification and importance ranking:"
   ]
  },
  {
   "cell_type": "code",
   "execution_count": 29,
   "metadata": {
    "ExecuteTime": {
     "end_time": "2020-05-03T16:03:22.677263Z",
     "start_time": "2020-05-03T16:03:22.658745Z"
    }
   },
   "outputs": [],
   "source": [
    "def makerf_1000(data, cat = False):\n",
    "    \n",
    "    if cat == 0:\n",
    "        cat = data.index\n",
    "    \n",
    "    #define Random Forest classifier and fit to all data\n",
    "    rf = RF(n_estimators= 500, oob_score= True)\n",
    "    rf.fit(data,cat)\n",
    "    \n",
    "    print(\"Out-of-bag score (%):\", rf.oob_score_*100)\n",
    "    \n",
    "    scores = defaultdict(list) #empty library for tracking scores\n",
    "\n",
    "    #define train-test splits, stratified to ensure all cell lines are in test\n",
    "    splits = StratifiedShuffleSplit(1000, 0.7)\n",
    "\n",
    "    #run test \n",
    "    for train_idx, test_idx in splits.split(data, cat):\n",
    "        X_train, X_test = data.values[train_idx], data.values[test_idx]\n",
    "        Y_train, Y_test = cat[train_idx], cat[test_idx]\n",
    "    \n",
    "        r = rf.fit(X_train, Y_train)\n",
    "    \n",
    "        acc = sum(rf.predict(X_test) == Y_test)/len(Y_test)\n",
    "    \n",
    "        #for each feature get difference in accuracy when test classes are shuffled\n",
    "        for i in range(len(data.columns)):\n",
    "            X_t = X_test.copy()\n",
    "            np.random.shuffle(X_t[:, i])\n",
    "            shuff_acc = sum(rf.predict(X_t) == Y_test)/len(Y_test)\n",
    "            scores[data.columns[i]].append((acc-shuff_acc)/acc)\n",
    "\n",
    "        \n",
    "    imp = pd.DataFrame(columns= ['Mean', 'std err.', 'color'])\n",
    "\n",
    "    #color code positive-negative\n",
    "    for feat in scores: \n",
    "        m = np.mean(scores[feat])\n",
    "        c = 'g'\n",
    "        if m > 0:\n",
    "            c = 'r'\n",
    "        imp.loc[feat] = [m, stats.sem(scores[feat]), c] \n",
    "        #stats.sem = standard error on the mean\n",
    "\n",
    "    imp=imp.sort_values('Mean', ascending = False)\n",
    "    \n",
    "    imp.plot.bar(y = 'Mean', yerr = 'std err.', color = imp.color, legend = False)\n",
    "    plt.ylabel('Relative importance ')\n",
    "    plt.show()"
   ]
  },
  {
   "cell_type": "code",
   "execution_count": 30,
   "metadata": {
    "ExecuteTime": {
     "end_time": "2020-05-03T16:17:23.310003Z",
     "start_time": "2020-05-03T16:03:22.683797Z"
    }
   },
   "outputs": [
    {
     "name": "stderr",
     "output_type": "stream",
     "text": [
      "C:\\ProgramData\\Anaconda3\\lib\\site-packages\\ipykernel_launcher.py:3: FutureWarning: elementwise comparison failed; returning scalar instead, but in the future will perform elementwise comparison\n",
      "  This is separate from the ipykernel package so we can avoid doing imports until\n"
     ]
    },
    {
     "name": "stdout",
     "output_type": "stream",
     "text": [
      "Out-of-bag score (%): 93.75\n"
     ]
    },
    {
     "data": {
      "image/png": "[encoded data removed]",
      "text/plain": [
       "<Figure size 432x288 with 1 Axes>"
      ]
     },
     "metadata": {},
     "output_type": "display_data"
    }
   ],
   "source": [
    "makerf_1000(data,cat)"
   ]
  },
  {
   "cell_type": "markdown",
   "metadata": {},
   "source": [
    "Box-cox transformation of data"
   ]
  },
  {
   "cell_type": "code",
   "execution_count": 31,
   "metadata": {
    "ExecuteTime": {
     "end_time": "2020-05-03T16:17:23.325633Z",
     "start_time": "2020-05-03T16:17:23.310003Z"
    }
   },
   "outputs": [],
   "source": [
    "def bc_trans(data):\n",
    "    \n",
    "    \"\"\"\n",
    "    Transformations of all columns in data except the reference, \n",
    "    which is set to all zeros.\n",
    "    data: DataFrame with integral values. No value can be < 0.\n",
    "    databc: BoxCox transformed and standardized DataFrame.\n",
    "    \"\"\"\n",
    "    \n",
    "    databc = pd.DataFrame()\n",
    "    \n",
    "    for column in data:\n",
    "        #sort reference out\n",
    "        if data.std()[column]!= 0:\n",
    "            #add small number for > 0 and transform column\n",
    "            bc= stats.boxcox(data[column]+0.0000000001)[0]\n",
    "            databc[column] = bc\n",
    "        else:\n",
    "            #reference set as zeros\n",
    "            databc[column] = np.zeros(len(data[column]))\n",
    "    \n",
    "    #standardize by substracting mean and dividing with std for each column\n",
    "    databc = databc.sub(databc.mean()).div(databc.std())\n",
    "    \n",
    "    databc = databc.fillna(0)\n",
    "    databc.index = data.index\n",
    "    \n",
    "    return databc"
   ]
  },
  {
   "cell_type": "code",
   "execution_count": 32,
   "metadata": {
    "ExecuteTime": {
     "end_time": "2020-05-03T16:17:23.371762Z",
     "start_time": "2020-05-03T16:17:23.329648Z"
    }
   },
   "outputs": [],
   "source": [
    "bc_data = bc_trans(data)"
   ]
  },
  {
   "cell_type": "markdown",
   "metadata": {},
   "source": [
    "PC-DFA on transformed data"
   ]
  },
  {
   "cell_type": "code",
   "execution_count": 33,
   "metadata": {
    "ExecuteTime": {
     "end_time": "2020-05-03T16:17:23.402878Z",
     "start_time": "2020-05-03T16:17:23.374758Z"
    }
   },
   "outputs": [],
   "source": [
    "def makepcdfa(data):\n",
    "    \n",
    "    #make PCA\n",
    "    pca = PCA(.95)\n",
    "    pca.fit(data)\n",
    "    data_pc = pca.transform(data)\n",
    "      \n",
    "    #Number samples\n",
    "    cell_order = {'PNT': 0, 'LNCAP': 1, 'PC3': 2, 'DU145': 3}\n",
    "    labels_data = np.array([cell_order[i] for i in list(data.index.values)])\n",
    "    label_set = ['PNT', 'LNCAP', 'PC3', 'DU145']\n",
    "    \n",
    "    colors = {}\n",
    "    for i in range(len(label_set)):\n",
    "        colors[label_set[i]] = color_set[i]\n",
    "        \n",
    "    \n",
    "    #plot PCA\n",
    "    for label in range(len(label_set)):\n",
    "        c = colors[label_set[label]]\n",
    "        x = data_pc[:,0][labels_data == label]\n",
    "                \n",
    "        y=data_pc[:,1][labels_data == label]\n",
    "        \n",
    "        plt.scatter(x,y, color = c, label = label_set[label])\n",
    "             \n",
    "    plt.xlabel('1. Principal Component')\n",
    "    plt.ylabel('2. Principal Component')\n",
    "    #plt.title('PCA transformation')\n",
    "    plt.legend(loc = 2)\n",
    "    plt.show()\n",
    "    \n",
    "    types = len(label_set) #how many different types to differentiate\n",
    "    \n",
    "    #set up LDA\n",
    "    lda_d = LDA(n_components=(types-1))\n",
    "    lda_d.priors = np.ones(types)/types\n",
    "    data_lda_d = lda_d.fit_transform(data_pc, labels_data)\n",
    "    \n",
    "    #Cross validated training\n",
    "    loo = LeaveOneOut()\n",
    "    predicted_loo = cross_val_predict(lda_d, data_pc, labels_data, cv= loo)\n",
    "    loo_scores = cross_val_score(lda_d, data_pc, labels_data, cv= loo)\n",
    "    acc_loo = loo_scores.mean()*100\n",
    "       \n",
    "    #plot LDA\n",
    "    for label in range(len(label_set)): #loops over cell lines\n",
    "        \n",
    "        c = colors[label_set[label]]\n",
    "        \n",
    "        x = data_lda_d[:,0][labels_data == label]\n",
    "        \n",
    "        y=data_lda_d[:,1][labels_data == label]\n",
    "        \n",
    "        plt.scatter(x,y, color = c, label = label_set[label])\n",
    "        \n",
    "        #plots 2.STD cloud\n",
    "        plot_point_cov(np.stack([x, y],1), nstd=2, alpha=0.2, color=c)\n",
    "\n",
    "        \n",
    "    plt.xlabel('1. Discriminant Function')\n",
    "    plt.ylabel('2. Discriminant Function')\n",
    "    #plt.title('PC-DFA seperation')\n",
    "    plt.legend(loc = 2)\n",
    "    plt.show()\n",
    "    \n",
    "    errors = pd.DataFrame([acc_loo], columns = [\"Leave-one-out\"], \n",
    "                          index = [\"error rate\"])\n",
    "    \n",
    "    #make confusion matrices\n",
    "    \n",
    "    lab = np.array([label_set[s] for s in labels_data])    \n",
    "    pre = np.array([label_set[s] for s in predicted_loo])\n",
    "    con_loo = pd.crosstab(lab, pre, rownames= [\"Actual\"], \n",
    "                          colnames= [\"predicted loo\"])\n",
    "    \n",
    "        \n",
    "    print(\"Variance in 1. PCA component: %.2f%%\" \n",
    "          %(pca.explained_variance_ratio_[0]*100))\n",
    "    print(\"Variance in 2. PCA component: %.2f%%\" \n",
    "          %(pca.explained_variance_ratio_[1]*100))\n",
    "    print(\"Total variance in PCA %.2f%%\" %(sum(pca.explained_variance_ratio_)*100))\n",
    "    print(\"Number of PCA components used:\", pca.n_components_)\n",
    "\n",
    "    print(errors)\n",
    "    print(con_loo)"
   ]
  },
  {
   "cell_type": "code",
   "execution_count": 34,
   "metadata": {
    "ExecuteTime": {
     "end_time": "2020-05-03T16:17:23.929083Z",
     "start_time": "2020-05-03T16:17:23.402878Z"
    }
   },
   "outputs": [
    {
     "data": {
      "image/png": "[encoded data removed]",
      "text/plain": [
       "<Figure size 432x288 with 1 Axes>"
      ]
     },
     "metadata": {},
     "output_type": "display_data"
    },
    {
     "data": {
      "image/png": "[encoded data removed]",
      "text/plain": [
       "<Figure size 432x288 with 1 Axes>"
      ]
     },
     "metadata": {},
     "output_type": "display_data"
    },
    {
     "name": "stdout",
     "output_type": "stream",
     "text": [
      "Variance in 1. PCA component: 34.47%\n",
      "Variance in 2. PCA component: 26.65%\n",
      "Total variance in PCA 95.68%\n",
      "Number of PCA components used: 7\n",
      "            Leave-one-out\n",
      "error rate         78.125\n",
      "predicted loo  DU145  LNCAP  PC3  PNT\n",
      "Actual                               \n",
      "DU145              7      0    1    0\n",
      "LNCAP              0      5    0    3\n",
      "PC3                1      0    7    0\n",
      "PNT                0      2    0    6\n"
     ]
    }
   ],
   "source": [
    "makepcdfa(bc_data)\n",
    "#Results are the same as presented in article but table is written in different order"
   ]
  },
  {
   "cell_type": "markdown",
   "metadata": {},
   "source": [
    "SVM analysis"
   ]
  },
  {
   "cell_type": "code",
   "execution_count": 35,
   "metadata": {
    "ExecuteTime": {
     "end_time": "2020-05-03T16:17:24.892456Z",
     "start_time": "2020-05-03T16:17:23.931095Z"
    },
    "scrolled": true
   },
   "outputs": [
    {
     "name": "stdout",
     "output_type": "stream",
     "text": [
      "                                   Validation scores\n",
      "All                                          0.93750\n",
      "[DHAP-C2, G3P-C1, LAC-C1, ALA-C1]            0.96875\n",
      "[DHAP-C2, G3P-C1, LAC-C1]                    0.93750\n",
      "[DHAP-C2, LAC-C1]                            0.90625\n",
      "[DHAP-C2, G3P-C1]                            0.90625\n",
      "[G3P-C1, LAC-C1]                             0.81250\n",
      "[LAC-C1]                                     0.75000\n",
      "[DHAP-C2]                                    0.90625\n",
      "[G3P-C1]                                     0.84375\n",
      "[ALA-C1]                                     0.62500\n",
      "[DHAP-C2, ALA-C1]                            0.90625\n",
      "[LAC-C1, ALA-C1]                             0.81250\n",
      "[G3P-C1, ALA-C1]                             0.93750\n",
      "[DHAP-C2, G3P-C1, ALA-C1]                    0.93750\n",
      "[DHAP-C2, LAC-C1, ALA-C1]                    0.93750\n",
      "[G3P-C1, LAC-C1, ALA-C1]                     0.96875\n",
      "[G3P-C1, LAC-C1, PEP-C2]                     0.78125\n"
     ]
    }
   ],
   "source": [
    "#standardize data\n",
    "data_s = pd.DataFrame(scale(data),index = data.index, columns= data.columns)\n",
    "\n",
    "svc = svm.SVC(probability=True, kernel='linear')\n",
    "\n",
    "validation_scores = np.array([])\n",
    "best_cs = np.array([])\n",
    "successes = np.array([])\n",
    "\n",
    "\n",
    "#different feature sets to be tested\n",
    "full = data.columns\n",
    "best4 = ['DHAP-C2', 'G3P-C1', 'LAC-C1','ALA-C1']\n",
    "best3 = ['DHAP-C2', 'G3P-C1', 'LAC-C1']\n",
    "other_3_1 = ['DHAP-C2', 'G3P-C1', 'ALA-C1']\n",
    "other_3_2 = ['DHAP-C2', 'LAC-C1','ALA-C1']\n",
    "other_3_3 = ['G3P-C1', 'LAC-C1','ALA-C1']\n",
    "dhap_lac = ['DHAP-C2','LAC-C1']\n",
    "dhap_gap = ['DHAP-C2', 'G3P-C1']\n",
    "dhap_ala = ['DHAP-C2', 'ALA-C1']\n",
    "lac_gap = ['G3P-C1', 'LAC-C1']\n",
    "lac = ['LAC-C1']\n",
    "dhap = ['DHAP-C2']\n",
    "ga3p = ['G3P-C1']\n",
    "ala = ['ALA-C1']\n",
    "lac_ala = ['LAC-C1', 'ALA-C1']\n",
    "ga3p_ala = ['G3P-C1', 'ALA-C1']\n",
    "pep = ['G3P-C1', 'LAC-C1','PEP-C2']\n",
    "\n",
    "feature_sets = np.array([full, best4, best3, dhap_lac, dhap_gap, lac_gap, lac, dhap, \n",
    "                         ga3p, ala, dhap_ala, lac_ala, ga3p_ala, other_3_1, \n",
    "                         other_3_2, other_3_3, pep])\n",
    "\n",
    "for fs in feature_sets:\n",
    "    x = data_s[fs]\n",
    "       \n",
    "    clf = svm.SVC(probability=True, kernel = 'linear', C= 1)\n",
    "    clf.fit(x, cat)\n",
    "    \n",
    "    predicted_loo = cross_val_predict(clf, x, cat, cv= LeaveOneOut())\n",
    "    successes = np.append(successes, sum(predicted_loo == cat)/len(cat))\n",
    "\n",
    "svm_resulst = pd.DataFrame(index = np.append('All', feature_sets[1:]))\n",
    "svm_resulst[\"Validation scores\"] = successes\n",
    "\n",
    "\n",
    "print(svm_resulst)"
   ]
  }
 ],
 "metadata": {
  "kernelspec": {
   "display_name": "Python 3",
   "language": "python",
   "name": "python3"
  },
  "language_info": {
   "codemirror_mode": {
    "name": "ipython",
    "version": 3
   },
   "file_extension": ".py",
   "mimetype": "text/x-python",
   "name": "python",
   "nbconvert_exporter": "python",
   "pygments_lexer": "ipython3",
   "version": "3.6.5"
  }
 },
 "nbformat": 4,
 "nbformat_minor": 2
}
